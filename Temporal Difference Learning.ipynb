{
 "cells": [
  {
   "cell_type": "markdown",
   "metadata": {
    "id": "8ztJNm_1JnIA"
   },
   "source": [
    "# TP Méthodes des différences temporelles -- SARSA et Q-Learning"
   ]
  },
  {
   "cell_type": "markdown",
   "metadata": {
    "id": "SfPlRr2lJ1ul"
   },
   "source": [
    "## Frozen Lake\n",
    "\n",
    "L'environnement Frozen Lake est un monde grille incertain dans lequel on part depuis un état initial (la case la plus en haut à gauche) pour aller à un état final (la case la plus basse à droite). L'environnement est incertain car vous marchez sur un lac gelé et l'épaisseur de glace varie. Vous pouvez donc tomber dans l'eau dans certaines cases. De plus, la glace est plus glissante à certains endroits, et donc faire un pas peut vous mener plus loin que prévu... et si le vent s'en mèle...\n",
    "\n",
    "Au lieu d'essayer d'estimer le modèle de transition, on va utiliser SARSA et Q-learning pour résoudre ce problème.\n",
    "\n",
    "Utilisez l'environnement Frozen Lake pour implémenter SARSA et Q-learning. Utilisez d'abord l'environnement avec une grille 4x4 pour tester vos algorithmes, puis vous devriez pouvoir les utiliser pour la grille 16x16.\n",
    "\n"
   ]
  },
  {
   "cell_type": "markdown",
   "metadata": {
    "id": "DxXBD-woAxNm"
   },
   "source": [
    "## FrozenLake - familiarisation avec l'environnement\n",
    "\n",
    "Evaluez une politique aléatoire. "
   ]
  },
  {
   "cell_type": "markdown",
   "metadata": {},
   "source": [
    "# Version 4x4:"
   ]
  },
  {
   "cell_type": "code",
   "execution_count": 1,
   "metadata": {
    "colab": {
     "base_uri": "https://localhost:8080/"
    },
    "id": "YYxTls9tJmVX",
    "outputId": "3325f29e-f5b3-41f1-fd5b-5d3180f33caa"
   },
   "outputs": [
    {
     "name": "stdout",
     "output_type": "stream",
     "text": [
      "Environnement avec  16  états et  4  actions\n",
      "etat numero: 0\n",
      "etat numero: 0\n",
      "etat numero: 0\n",
      "etat numero: 4\n",
      "etat numero: 8\n",
      "etat numero: 8\n",
      "etat numero: 8\n",
      "etat numero: 4\n",
      "etat numero: 4\n",
      "etat numero: 4\n",
      "etat numero: 0\n",
      "etat numero: 1\n",
      "etat numero: 1\n",
      "etat numero: 1\n",
      "etat numero: 5\n",
      "Episode terminé après 15 itérations\n",
      "Récompenses obtenues: [0.0, 0.0, 0.0, 0.0, 0.0, 0.0, 0.0, 0.0, 0.0, 0.0, 0.0, 0.0, 0.0, 0.0, 0.0]\n"
     ]
    }
   ],
   "source": [
    "import numpy as np\n",
    "import matplotlib.pyplot as plt\n",
    "import random\n",
    "import gym\n",
    "env = gym.make(\"FrozenLake-v1\", render_mode='rgb_array')\n",
    "numStates = env.observation_space.n\n",
    "numActions = env.action_space.n\n",
    "print(\"Environnement avec \", numStates, \" états et \", numActions, \" actions\")\n",
    "#\n",
    "# env.reset() fait commencer un nouvel épisode\n",
    "# la méthode retourne l'état initial\n",
    "#\n",
    "state = env.reset()\n",
    "nbIt=0\n",
    "rew=[]\n",
    "done=False\n",
    "while not done:\n",
    "    #\n",
    "    # env.step(action) exécute une action dans l'état courant\n",
    "    # la méthode retourne:\n",
    "    #    • l'état suivant\n",
    "    #    • la récompense immédiate\n",
    "    #    • un booléen qui indique si l'épisode est terminé\n",
    "    #    • le quatrième argument ne nous est pas utile (sert pour le debuggage dans certains cas)\n",
    "    #\n",
    "    nextState, reward, done, info, _ = env.step(np.random.randint(4))\n",
    "    print(\"etat numero:\",nextState)\n",
    "    #\n",
    "    # env.render donne une réprésentation de l'état.\n",
    "    #\n",
    "    nbIt+=1\n",
    "    rew = rew+[reward]\n",
    "print(\"Episode terminé après {} itérations\".format(nbIt))\n",
    "print(\"Récompenses obtenues:\",rew)\n",
    "env.close()"
   ]
  },
  {
   "cell_type": "markdown",
   "metadata": {
    "id": "sCR8A5xKB1Zv"
   },
   "source": [
    "## $\\epsilon$-greedy\n",
    "\n",
    "Implémentez une fonction qui retourne une action avec la stratégie $\\epsilon$-greedy:\n",
    "* exploite avec une probabilité $1-\\epsilon$: ici on choisit l'action avec la meilleure valeur de $q[s]$\n",
    "* explore avec une probabilité $\\epsilon$: on choisit une action de manière uniforme sur toutes les actions.\n",
    "\n",
    "Vous pouvez choisir différente signature pour la fonction:\n",
    "soit en lui passant:\n",
    " * le paramètre $\\epsilon$\n",
    " * la table `Q`\n",
    " * l'état `s` dans lequel l'action sera exécutée\n",
    " * donc l'appel aura la forme `action = epsGreedy(eps, Q, s)`\n",
    "\n",
    " Autre solution, vous pouvez donner seulement la valeur de $\\epsilon$ et vecteur Q(s) (qui a pour dimension le nombre d'actions). L'appel aura donc la forme `action = epsGreedy(eps, q)`\n",
    "\n",
    "*Attention* On peut imaginer le cas particulier où on trouve plusieurs occurrence de la valeur max dans le vecteur `Q(s)`. Dans ce cas, il ne faudrait pas *toujours* choisir la même action, mais plutôt choisir une des actions ex-aequo au hasard. \n",
    "Ce cas n'est peut-être pas si exotique que cela, en particulier en début d'apprentissage, quand toutes les valeurs sont nulles. Pour explorer, il est alors souhaitable de répéter le même choix!\n",
    "\n",
    "\n",
    "Pour ceux peu familier avec python, regardez le petit exemple de code ci-dessous pour illustrer quelques fonctions de la bibliothèque `numpy`\n",
    "- La fonction `np.random.rand()` tire une valeur de manière uniforme entre 0 et 1. \n",
    "- La fonction np.random.choice permet de choisir de manière uniforme une valeur parmi un ensemble.\n",
    "- La fonction `np.argwhere(l)` permet de donner les indices où l'entrée du vecteur l est non nul. On peut donc coupler un appel de `np.argwhere` avec un test.\n",
    "\n"
   ]
  },
  {
   "cell_type": "code",
   "execution_count": 2,
   "metadata": {
    "colab": {
     "base_uri": "https://localhost:8080/"
    },
    "id": "8Otp_pfpaske",
    "outputId": "25e6e526-03ac-4589-8c03-2e7a679bf3be"
   },
   "outputs": [
    {
     "name": "stdout",
     "output_type": "stream",
     "text": [
      "0.4767161785064944\n",
      "résultat des 10 tirages: [3. 5. 5. 1. 1. 5. 5. 3. 3. 5.]\n",
      "la proportion de chaque valeur sur ces 10 tirages est  [0.2 0.3 0.5]\n",
      "Les indices de la liste val où la valeur est 3 sont: [[0]\n",
      " [7]\n",
      " [8]]\n"
     ]
    }
   ],
   "source": [
    "val = np.random.rand()\n",
    "print(val)\n",
    "val=np.zeros(10)\n",
    "# on tire au sort 10 fois une valeur dans l'ensemble {1, 3, 5}\n",
    "for i in range(10):\n",
    "    val[i]=np.random.choice([1,3,5])\n",
    "_, count = np.unique(val,return_counts=True)\n",
    "print(\"résultat des 10 tirages:\", val)\n",
    "print(\"la proportion de chaque valeur sur ces 10 tirages est \", count/10)\n",
    "indices3 = np.argwhere(val==3)\n",
    "print(\"Les indices de la liste val où la valeur est 3 sont:\", indices3)\n",
    "def epsGreedy(eps, q, s):\n",
    "    if np.random.uniform(0,1) < eps:\n",
    "        return np.random.randint(numActions)\n",
    "    else:\n",
    "        return np.random.choice(np.argwhere(q[s,] == max(q[s,])).reshape(-1,))"
   ]
  },
  {
   "cell_type": "markdown",
   "metadata": {
    "id": "4HKc6m_afc89"
   },
   "source": [
    "## Tester une politique\n",
    "\n",
    "Lors de l'apprentissage, il est nécessaire d'explorer, ainsi lorsqu'on analyse les performances durant l'apprentissage, il faut avoir à l'esprit qu'une partie des choix est faite au hasard. Après avoir appris, on peut faire un test en étant glouton: à chaque état, on choisit toujours l'action qui donne la plus haute valeur de `Q`.\n",
    "Implémentez une méthode qui prend en paramètre un nombre d'épisodes fixé, une table `Q`, et qui exécute la politique gloutone. La méthode retourne la valeur moyenne de la somme des récompenses sur l'épisode."
   ]
  },
  {
   "cell_type": "code",
   "execution_count": 3,
   "metadata": {
    "id": "zOYzTAq3gZxY"
   },
   "outputs": [],
   "source": [
    "from tqdm import tqdm\n",
    "def test(Q,n):\n",
    "    cumulative_reward = 0\n",
    "    # run n episodes\n",
    "    for i in tqdm(range(n)):\n",
    "        old_state = env.reset()[0]\n",
    "        finished = False\n",
    "        episode_reward = 0\n",
    "        # while the game is not finished\n",
    "        while not finished:\n",
    "            new_state, state_reward, finished, _, _ = env.step(np.argmax(Q[old_state,:]))\n",
    "            episode_reward += state_reward\n",
    "            old_state = new_state\n",
    "        # add the reward of last episode to the total cumulative reward\n",
    "        cumulative_reward += episode_reward\n",
    "    return cumulative_reward/n"
   ]
  },
  {
   "cell_type": "markdown",
   "metadata": {
    "id": "7JISzKV0alpV"
   },
   "source": [
    "### SARSA\n",
    "\n",
    "Implémentez un fonction SARSA qui prend en paramètre\n",
    " * un nombre d'épisodes utilisés pour l'apprentissage\n",
    " * $\\gamma$ le taux d'escompte\n",
    " * $\\alpha$ le taux d'apprentissage (que l'on retrouve lors de la mise à jour des valeurs de Q)\n",
    " * $\\epsilon$ le paramètre pour la méthode $\\epsilon$-greedy.\n",
    "\n",
    "Votre fonction doit au moins retourner la table $Q: S \\times A$. Vous trouverez ci-dessous une fonction $plotQ$ qui génère une représentation de la table $Q$: pour chaque case sera dessiné la meilleure action selon $Q$ et la couleur représentera la valeur de cette action.\n",
    " \n",
    "Pour visualiser les progrès faits pendant l'apprentissage, votre fonction SARSA peut également retourner une séquence de valeurs. Par exemple,\n",
    " * la séquence de récompenses (totale ou moyenne) obtenue sur chaque épisode de l'apprentissage\n",
    " * la valeur de la meilleure action pour l'état de départ à chaque fin d'épisode.\n",
    " * au lieu d'utiliser les valeurs obtenues lors de l'apprentissage, vous pouvez aussi effectuer périodiquement une évaluation de la politique courante (sans exploration). Pour ce faire, vous pouvez calculer la performance sur un petit nombre d'épisodes et retourner la moyenne. Cette méthode a l'avantage d'évaluer la politique sans exploration (donc une meilleure évaluation de la politique), mais peut coûter cher en temps de calcul suivant la fréquence d'exécution et le nombre d'épisodes utilisés pour l'évaluation.\n",
    "\n",
    "En générant le graphique, vous devriez visualiser si l'algorithme est arrivé à améliorer les performances. Vous pouvez soit tracer directement la valeur de chaque épisode. Pour avoir une courbe un peu plus lisse, vous pouvez aussi calculer une moyenne sur une fenêtre de $k$ épisodes (la fonction $runningAvg$ effectue ce travail).\n",
    "\n",
    "Notez qu'on considère Frozen lake comme résolu quand\n",
    " * il atteint le but dans 78% des épisodes pour la grille 4x4.\n",
    " * a priori, on peut atteindre 100% pour la grille 8x8\n",
    "\n",
    "Quelques idées pour aider au debeug:\n",
    " * vous pouvez aussi regarder si la plupart des paires état-actions ont été exécutée. \n",
    " * Vous pouvez choisir comme paramètres (le code que j'ai écrit a fonctionné avec ces paramètres, évidemment, vous pouvez essayer avec d'autres par la suite).\n",
    "   * $\\epsilon=0.2$\n",
    "   * $\\alpha=0.02$\n",
    "   * Frozen lake est une tâche épisodique, donc ici, on peut s'intéresser simplement à la somme des récompenses accumulées lors d'un épisode. Donc on peut choisir $\\gamma=1$ (pas d'escompte)."
   ]
  },
  {
   "cell_type": "code",
   "execution_count": 4,
   "metadata": {
    "id": "lBPUTjtTXpyZ"
   },
   "outputs": [],
   "source": [
    "def runningAvg(data, windowSize):\n",
    "    res = np.zeros(len(data)-windowSize)\n",
    "    sum=0\n",
    "    for i in range(windowSize):\n",
    "        sum += data[i]\n",
    "    for i in range(len(data)-windowSize):\n",
    "        res[i]= sum/windowSize\n",
    "        sum -= data[i]\n",
    "        sum += data[i+windowSize]\n",
    "    return res\n",
    "\n",
    "\n",
    "# visualisation de la table Q pour FrozenLake 4x4 et 8x8\n",
    "# passez la taille (4 ou 8) en paramètres\n",
    "def plotQ(q_table, map_size):\n",
    "    if (map_size==4):\n",
    "        MAP = [\n",
    "        \"SFFF\",\n",
    "        \"FHFH\",\n",
    "        \"FFFF\",\n",
    "        \"HFFG\"\n",
    "        ]\n",
    "    else:\n",
    "        MAP=[\n",
    "        \"SFFFFFFF\",\n",
    "        \"FFFFFFFF\",\n",
    "        \"FFFHFFFF\",\n",
    "        \"FFFFFHFF\",\n",
    "        \"FFFHFFFF\",\n",
    "        \"FHHFFFHF\",\n",
    "        \"FHFFHFHF\",\n",
    "        \"FFFHFFFG\"\n",
    "        ]\n",
    "    best_value = np.max(q_table, axis = 1).reshape((map_size,map_size))\n",
    "    best_policy = np.argmax(q_table, axis = 1).reshape((map_size,map_size))\n",
    "    \n",
    "    fig, ax = plt.subplots()\n",
    "    im = ax.imshow(best_value)\n",
    "\n",
    "    for i in range(best_value.shape[0]):\n",
    "        for j in range(best_value.shape[1]):\n",
    "            if MAP[i][j] in 'GH':\n",
    "                arrow = MAP[i][j]\n",
    "            elif best_policy[i, j] == 0:\n",
    "                arrow = '<'\n",
    "            elif best_policy[i, j] == 1:\n",
    "                arrow = 'v'\n",
    "            elif best_policy[i, j] == 2:\n",
    "                arrow = '>'\n",
    "            elif best_policy[i, j] == 3:\n",
    "                arrow = '^'\n",
    "            if MAP[i][j] in 'S':\n",
    "                arrow = 'S ' + arrow\n",
    "            text = ax.text(j, i, arrow, ha = \"center\", va = \"center\",\n",
    "                         color = \"black\")\n",
    "            \n",
    "    cbar = ax.figure.colorbar(im, ax = ax)\n",
    "    \n",
    "    fig.tight_layout()\n",
    "    plt.show()"
   ]
  },
  {
   "cell_type": "code",
   "execution_count": 5,
   "metadata": {},
   "outputs": [],
   "source": [
    "def SARSA(eps, alpha, gamma, n):\n",
    "    numStates = env.observation_space.n\n",
    "    numActions = env.action_space.n\n",
    "    q = np.zeros((numStates, numActions))\n",
    "    episodes_rewards = []\n",
    "    episodes_lengths = []\n",
    "    # run n episodes\n",
    "    for i in tqdm(range(n)):\n",
    "        old_state = env.reset()[0]\n",
    "        current_ep_length = 0 \n",
    "        finished = False\n",
    "        old_action = epsGreedy(eps,q,old_state)  \n",
    "        # while the game is not finished\n",
    "        while not finished:\n",
    "            new_state, reward, finished, _,_ = env.step(old_action)\n",
    "            new_action = epsGreedy(eps,q,new_state)\n",
    "            q[old_state, old_action] = q[old_state, old_action] + alpha*(reward + gamma*q[new_state,new_action] - q[old_state, old_action])\n",
    "            old_action = new_action\n",
    "            old_state = new_state\n",
    "            current_ep_length += 1\n",
    "        # add the reward of last episode to our list of episodes' rewards\n",
    "        episodes_rewards.append(np.max(q[0]))\n",
    "        episodes_lengths.append(current_ep_length + 1)   \n",
    "    return q, episodes_rewards, episodes_lengths"
   ]
  },
  {
   "cell_type": "code",
   "execution_count": 6,
   "metadata": {},
   "outputs": [
    {
     "name": "stderr",
     "output_type": "stream",
     "text": [
      "100%|██████████████████████████████████████████████████████████████████████████| 35000/35000 [00:33<00:00, 1053.07it/s]"
     ]
    },
    {
     "name": "stdout",
     "output_type": "stream",
     "text": [
      "4x4 Qtable (SARSA):\n",
      "\n",
      " [[0.24258642 0.23187556 0.23012198 0.23290547]\n",
      " [0.15897453 0.1484662  0.10700389 0.21435709]\n",
      " [0.19966736 0.18615868 0.18527186 0.18416081]\n",
      " [0.09934519 0.09904964 0.11281716 0.16855989]\n",
      " [0.2622448  0.17248889 0.16666202 0.14286701]\n",
      " [0.         0.         0.         0.        ]\n",
      " [0.23306098 0.1508509  0.19403208 0.06459539]\n",
      " [0.         0.         0.         0.        ]\n",
      " [0.17128646 0.24191108 0.18344064 0.32696419]\n",
      " [0.25739864 0.42509038 0.32162883 0.23925097]\n",
      " [0.44714819 0.32252198 0.37669591 0.19462368]\n",
      " [0.         0.         0.         0.        ]\n",
      " [0.         0.         0.         0.        ]\n",
      " [0.28229306 0.43214139 0.56577899 0.34159263]\n",
      " [0.58397033 0.7234898  0.67338452 0.65457513]\n",
      " [0.         0.         0.         0.        ]]\n"
     ]
    },
    {
     "name": "stderr",
     "output_type": "stream",
     "text": [
      "\n"
     ]
    }
   ],
   "source": [
    "# on va exécuter 35000 épisodes pour chaque méthode utilisée\n",
    "n_episodes = 35000\n",
    "q, episodes_rewards, episodes_lengths = SARSA(0.2, 0.02, 1, n_episodes)\n",
    "print(\"4x4 Qtable (SARSA):\\n\\n\",q)"
   ]
  },
  {
   "cell_type": "code",
   "execution_count": 7,
   "metadata": {},
   "outputs": [
    {
     "name": "stdout",
     "output_type": "stream",
     "text": [
      "                4x4 SARSA:\n"
     ]
    },
    {
     "data": {
      "image/png": "[encoded data removed]",
      "text/plain": [
       "<Figure size 432x288 with 2 Axes>"
      ]
     },
     "metadata": {
      "needs_background": "light"
     },
     "output_type": "display_data"
    }
   ],
   "source": [
    "print(\"                4x4 SARSA:\")\n",
    "plotQ(q,4)"
   ]
  },
  {
   "cell_type": "code",
   "execution_count": 8,
   "metadata": {},
   "outputs": [
    {
     "name": "stderr",
     "output_type": "stream",
     "text": [
      "100%|██████████████████████████████████████████████████████████████████████████| 35000/35000 [00:19<00:00, 1800.35it/s]\n"
     ]
    },
    {
     "name": "stdout",
     "output_type": "stream",
     "text": [
      "4x4 SARSA Policy evaluation over 35000 episodes: 0.7807714285714286\n"
     ]
    },
    {
     "data": {
      "image/png": "[encoded data removed]",
      "text/plain": [
       "<Figure size 432x288 with 1 Axes>"
      ]
     },
     "metadata": {
      "needs_background": "light"
     },
     "output_type": "display_data"
    }
   ],
   "source": [
    "res = runningAvg(episodes_lengths, 1500)\n",
    "plt.plot(res)\n",
    "print(\"4x4 SARSA Policy evaluation over\",n_episodes,\"episodes:\", test(q,n_episodes))"
   ]
  },
  {
   "cell_type": "markdown",
   "metadata": {
    "id": "oal2LS2mG3qW"
   },
   "source": [
    "## Q-learning\n",
    "Implémentez l'algorithme Q-learning (en partant de SARSA)\n",
    "\n"
   ]
  },
  {
   "cell_type": "code",
   "execution_count": 9,
   "metadata": {
    "id": "vZ8bmLd8pxjD"
   },
   "outputs": [],
   "source": [
    "def Qlearning(eps, alpha, gamma, n):\n",
    "    numStates = env.observation_space.n\n",
    "    numActions = env.action_space.n\n",
    "    q = np.zeros((numStates, numActions))\n",
    "    counter = np.zeros((numStates, numActions))\n",
    "    episodes_lengths = []\n",
    "    # run n episodes\n",
    "    for i in tqdm(range(n)):\n",
    "        old_state = env.reset()[0]\n",
    "        current_ep_length = 0 \n",
    "        finished = False \n",
    "        # while the game is not finished\n",
    "        while not finished:\n",
    "            old_action = epsGreedy(eps,q,old_state) \n",
    "            new_state, reward, finished, _,_ = env.step(old_action)\n",
    "            counter[old_state,old_action] += 1 \n",
    "            q[old_state, old_action] = q[old_state, old_action] + alpha*(reward + gamma*np.max(q[new_state]) - q[old_state, old_action])\n",
    "            current_ep_length += 1\n",
    "            old_state = new_state\n",
    "        # get the list containing the length (number of visited states) of each episode\n",
    "        episodes_lengths.append(current_ep_length + 1)\n",
    "    return q, counter, episodes_lengths"
   ]
  },
  {
   "cell_type": "code",
   "execution_count": 10,
   "metadata": {},
   "outputs": [
    {
     "name": "stderr",
     "output_type": "stream",
     "text": [
      "100%|██████████████████████████████████████████████████████████████████████████| 35000/35000 [00:34<00:00, 1018.95it/s]"
     ]
    },
    {
     "name": "stdout",
     "output_type": "stream",
     "text": [
      "4x4 Qtable (Q_Learning):\n",
      "\n",
      " [[0.76827441 0.74390427 0.73751012 0.74152891]\n",
      " [0.52329872 0.44455784 0.42774298 0.68605029]\n",
      " [0.50811766 0.49577508 0.45917465 0.60790564]\n",
      " [0.21691585 0.26807816 0.18634117 0.55757756]\n",
      " [0.7661393  0.5352618  0.466161   0.52944177]\n",
      " [0.         0.         0.         0.        ]\n",
      " [0.37209205 0.23265204 0.30790654 0.2052132 ]\n",
      " [0.         0.         0.         0.        ]\n",
      " [0.44675306 0.53663617 0.52167627 0.75986772]\n",
      " [0.54380465 0.73890476 0.45270741 0.46654297]\n",
      " [0.62864255 0.54441633 0.42555464 0.39458734]\n",
      " [0.         0.         0.         0.        ]\n",
      " [0.         0.         0.         0.        ]\n",
      " [0.53778369 0.62792985 0.83919098 0.57419168]\n",
      " [0.84440581 0.90929275 0.89649727 0.85973653]\n",
      " [0.         0.         0.         0.        ]]\n"
     ]
    },
    {
     "name": "stderr",
     "output_type": "stream",
     "text": [
      "\n"
     ]
    }
   ],
   "source": [
    "q, count, episodes_lengths = Qlearning(0.2, 0.02, 1, n_episodes)\n",
    "print(\"4x4 Qtable (Q_Learning):\\n\\n\",q)"
   ]
  },
  {
   "cell_type": "code",
   "execution_count": 11,
   "metadata": {},
   "outputs": [
    {
     "name": "stdout",
     "output_type": "stream",
     "text": [
      "            4x4 Q_Learning:\n"
     ]
    },
    {
     "data": {
      "image/png": "[encoded data removed]",
      "text/plain": [
       "<Figure size 432x288 with 2 Axes>"
      ]
     },
     "metadata": {
      "needs_background": "light"
     },
     "output_type": "display_data"
    }
   ],
   "source": [
    "print(\"            4x4 Q_Learning:\")\n",
    "plotQ(q,4)"
   ]
  },
  {
   "cell_type": "code",
   "execution_count": 12,
   "metadata": {},
   "outputs": [
    {
     "name": "stderr",
     "output_type": "stream",
     "text": [
      "100%|██████████████████████████████████████████████████████████████████████████| 35000/35000 [00:21<00:00, 1629.26it/s]\n"
     ]
    },
    {
     "name": "stdout",
     "output_type": "stream",
     "text": [
      "4x4 Q_Learning Policy evaluation over 35000 episodes: 0.8248857142857143\n"
     ]
    },
    {
     "data": {
      "image/png": "[encoded data removed]",
      "text/plain": [
       "<Figure size 432x288 with 1 Axes>"
      ]
     },
     "metadata": {
      "needs_background": "light"
     },
     "output_type": "display_data"
    }
   ],
   "source": [
    "res = runningAvg(episodes_lengths, 1500)\n",
    "plt.plot(res)\n",
    "print(\"4x4 Q_Learning Policy evaluation over\",n_episodes,\"episodes:\", test(q,n_episodes))"
   ]
  },
  {
   "cell_type": "markdown",
   "metadata": {
    "id": "nixgMInoHHtz"
   },
   "source": [
    "## Comparaison\n",
    "\n",
    "Comparer les politiques trouvées à l'aide de SARSA, Q-learning, et vous devriez aussi pouvoir utiliser le code de l'algorithme on policy Monte Carlo du TD précédent.\n",
    "\n",
    "Avant convergence à l'optimal, on observe souvent que SARSA a choisi une politique moins risquée avant de tomber sur l'optimal pour le FrozenLake8x8."
   ]
  },
  {
   "cell_type": "code",
   "execution_count": 13,
   "metadata": {},
   "outputs": [],
   "source": [
    "def test_MC(Q,n):\n",
    "    cumulative_reward = 0\n",
    "    # run n episodes\n",
    "    for i in tqdm(range(n)):\n",
    "        old_state = env.reset()[0]\n",
    "        finished = False\n",
    "        episode_reward = 0\n",
    "        # while the game is not finished\n",
    "        while not finished:\n",
    "            q_per_state = []\n",
    "            for i in q:\n",
    "                if i[0] == old_state:\n",
    "                    q_per_state.append(q[i])\n",
    "            qmax_per_state = max(q_per_state)\n",
    "            maximum_action = [i[1] for i in q if q[i] == qmax_per_state and i[0] == old_state]\n",
    "            new_state, state_reward, finished, _, _ = env.step(np.random.choice(maximum_action))\n",
    "            episode_reward += state_reward\n",
    "            old_state = new_state\n",
    "        # add the reward of last episode to the total cumulative reward\n",
    "        cumulative_reward += episode_reward\n",
    "    return cumulative_reward/n"
   ]
  },
  {
   "cell_type": "code",
   "execution_count": 14,
   "metadata": {},
   "outputs": [],
   "source": [
    "#Monte Carlo\n",
    "from collections import defaultdict\n",
    "def epsGreedy_MC(epsilon, q, s):\n",
    "    if np.random.uniform(0,1) < epsilon:\n",
    "        return np.random.choice(range(env.action_space.n))\n",
    "    else:\n",
    "        q_per_state = []\n",
    "        for i in q:\n",
    "            if i[0] == s:\n",
    "                q_per_state.append(q[i])\n",
    "        qmax_per_state = max(q_per_state)\n",
    "        maximum_action = [i[1] for i in q if q[i] == qmax_per_state and i[0] == s]\n",
    "        return np.random.choice(maximum_action)\n",
    "def onPolicyMC(numEpisodes, gamma, epsilon):\n",
    "    # q=0, counter=0, cumulative_gain=0 pour tous les états et toutes les actions\n",
    "    q = defaultdict(lambda:0)\n",
    "    # initialize q=0 for all pairs (state,action)\n",
    "    for i in range(numStates):\n",
    "        for j in range(numActions):\n",
    "            q[i,j]=0\n",
    "    counter = defaultdict(lambda:0)\n",
    "    cumulative_gain = defaultdict(lambda:0)\n",
    "    pi = defaultdict(lambda:None)\n",
    "    episodes_lengths = []\n",
    "    # iterations is the number of episodes to run\n",
    "    for i in tqdm(range(numEpisodes)):\n",
    "        old_state = env.reset()[0]\n",
    "        visited_states = [old_state]\n",
    "        state_action_reward = {}\n",
    "        finished = False\n",
    "        current_ep_length = 0\n",
    "        # tant que le jeu n'est pas terminé\n",
    "        while not finished:\n",
    "            action = epsGreedy_MC(epsilon, q, old_state)\n",
    "            new_state, reward, finished, _, _ = env.step(action)\n",
    "            visited_states.append(new_state)\n",
    "            state_action_reward[(old_state,action)] = reward\n",
    "            current_ep_length += 1\n",
    "            old_state = new_state\n",
    "        episodes_lengths.append(current_ep_length + 1)\n",
    "        # calcul de la action value q de chaque état\n",
    "        state_action_totalgain = 0\n",
    "        for state, action in reversed(state_action_reward):\n",
    "            immediate_reward = state_action_reward[state,action]\n",
    "            state_action_totalgain = immediate_reward + gamma*state_action_totalgain\n",
    "            counter[state,action] += 1\n",
    "            cumulative_gain[state,action] += state_action_totalgain\n",
    "            # mise à jour de q dans chaque visite\n",
    "            q[state,action] = cumulative_gain[state,action] / counter[state,action]\n",
    "        a_star = defaultdict(lambda:None)\n",
    "        for st in visited_states[:-1]:\n",
    "            a_star[st] = epsGreedy_MC(epsilon, q, st)\n",
    "            for a in range(numActions):\n",
    "                if a == a_star[st]:\n",
    "                    pi[st,a] = 1 - epsilon + epsilon/numActions\n",
    "                else:\n",
    "                    pi[st,a] = epsilon/numActions   \n",
    "    return q, pi, episodes_lengths"
   ]
  },
  {
   "cell_type": "code",
   "execution_count": 15,
   "metadata": {},
   "outputs": [
    {
     "name": "stderr",
     "output_type": "stream",
     "text": [
      "100%|███████████████████████████████████████████████████████████████████████████| 35000/35000 [00:53<00:00, 656.17it/s]"
     ]
    },
    {
     "name": "stdout",
     "output_type": "stream",
     "text": [
      "4x4 Qtable (Monte Carlo On_Policy):\n",
      "\n",
      " defaultdict(<function onPolicyMC.<locals>.<lambda> at 0x000001AEE1578E50>, {(0, 0): 0.19047182496027382, (0, 1): 0.1672838948604462, (0, 2): 0.17225399329520805, (0, 3): 0.17448635387917816, (1, 0): 0.10777126099706745, (1, 1): 0.10215427380125087, (1, 2): 0.08656716417910448, (1, 3): 0.15465332941061097, (2, 0): 0.13858424725822532, (2, 1): 0.11284513805522209, (2, 2): 0.10353535353535354, (2, 3): 0.11389236545682102, (3, 0): 0.07196969696969698, (3, 1): 0.052434456928838954, (3, 2): 0.04316546762589928, (3, 3): 0.05434782608695652, (4, 0): 0.20188474084813338, (4, 1): 0.14367737525632263, (4, 2): 0.1275496328528692, (4, 3): 0.12400279916025192, (5, 0): 0, (5, 1): 0, (5, 2): 0, (5, 3): 0, (6, 0): 0.13921228635125094, (6, 1): 0.08868501529051988, (6, 2): 0.12357954545454546, (6, 3): 0.023391812865497075, (7, 0): 0, (7, 1): 0, (7, 2): 0, (7, 3): 0, (8, 0): 0.13189832837188, (8, 1): 0.1764443453044836, (8, 2): 0.16338713243422506, (8, 3): 0.2394792002579813, (9, 0): 0.19421306444541866, (9, 1): 0.31704260651629074, (9, 2): 0.2358997314234557, (9, 3): 0.1649928263988522, (10, 0): 0.257380073800738, (10, 1): 0.26412552500198117, (10, 2): 0.18217979315831345, (10, 3): 0.10323709536307961, (11, 0): 0, (11, 1): 0, (11, 2): 0, (11, 3): 0, (12, 0): 0, (12, 1): 0, (12, 2): 0, (12, 3): 0, (13, 0): 0.22161671207992734, (13, 1): 0.3083665338645418, (13, 2): 0.4287878787878788, (13, 3): 0.24354243542435425, (14, 0): 0.2703273495248152, (14, 1): 0.5444096133751306, (14, 2): 0.6413764074502789, (14, 3): 0.46754468485418627, (15, 0): 0, (15, 1): 0, (15, 2): 0, (15, 3): 0})\n"
     ]
    },
    {
     "name": "stderr",
     "output_type": "stream",
     "text": [
      "\n"
     ]
    }
   ],
   "source": [
    "q, pi, episodes_lengths = onPolicyMC(n_episodes, 1, 0.2)\n",
    "print(\"4x4 Qtable (Monte Carlo On_Policy):\\n\\n\",q)"
   ]
  },
  {
   "cell_type": "code",
   "execution_count": 16,
   "metadata": {},
   "outputs": [
    {
     "name": "stderr",
     "output_type": "stream",
     "text": [
      "100%|███████████████████████████████████████████████████████████████████████████| 35000/35000 [00:46<00:00, 748.06it/s]"
     ]
    },
    {
     "name": "stdout",
     "output_type": "stream",
     "text": [
      "4x4 Monte Carlo On_Policy Policy evaluation over 35000 episodes: 0.4996285714285714\n"
     ]
    },
    {
     "name": "stderr",
     "output_type": "stream",
     "text": [
      "\n"
     ]
    },
    {
     "data": {
      "image/png": "[encoded data removed]",
      "text/plain": [
       "<Figure size 432x288 with 1 Axes>"
      ]
     },
     "metadata": {
      "needs_background": "light"
     },
     "output_type": "display_data"
    }
   ],
   "source": [
    "res = runningAvg(episodes_lengths, 1500)\n",
    "plt.plot(res)\n",
    "print(\"4x4 Monte Carlo On_Policy Policy evaluation over\",n_episodes,\"episodes:\", test_MC(q,n_episodes))"
   ]
  },
  {
   "cell_type": "markdown",
   "metadata": {},
   "source": [
    "### SARSA vs. Q_learning vs. Monte Carlo on_policy pour 4x4:"
   ]
  },
  {
   "cell_type": "markdown",
   "metadata": {},
   "source": [
    "Sur 35000 épisodes, et en utilisant la grille 4x4, on remarque que l'algorithme Q_Learning a obtenu la plus grande valeur moyenne de la somme des récompenses sur l'épisode (0.824), suivi de l'algorithme SARSA (0.78), alors que Monte Carlo on_policy a obtenu 0.499 seulement."
   ]
  },
  {
   "cell_type": "markdown",
   "metadata": {},
   "source": [
    "# Version 8x8:"
   ]
  },
  {
   "cell_type": "code",
   "execution_count": 17,
   "metadata": {},
   "outputs": [
    {
     "name": "stdout",
     "output_type": "stream",
     "text": [
      "Environnement avec  64  états et  4  actions\n",
      "etat numero: 1\n",
      "etat numero: 2\n",
      "etat numero: 1\n",
      "etat numero: 2\n",
      "etat numero: 2\n",
      "etat numero: 2\n",
      "etat numero: 2\n",
      "etat numero: 10\n",
      "etat numero: 9\n",
      "etat numero: 17\n",
      "etat numero: 18\n",
      "etat numero: 26\n",
      "etat numero: 18\n",
      "etat numero: 19\n",
      "Episode terminé après 14 itérations\n",
      "Récompenses obtenues: [0.0, 0.0, 0.0, 0.0, 0.0, 0.0, 0.0, 0.0, 0.0, 0.0, 0.0, 0.0, 0.0, 0.0]\n"
     ]
    }
   ],
   "source": [
    "env = gym.make(\"FrozenLake8x8-v1\",  is_slippery=True)\n",
    "numStates = env.observation_space.n\n",
    "numActions = env.action_space.n\n",
    "print(\"Environnement avec \", numStates, \" états et \", numActions, \" actions\")\n",
    "#\n",
    "# env.reset() fait commencer un nouvel épisode\n",
    "# la méthode retourne l'état initial\n",
    "#\n",
    "state = env.reset()\n",
    "nbIt=0\n",
    "rew=[]\n",
    "done=False\n",
    "while not done:\n",
    "    #\n",
    "    # env.step(action) exécute une action dans l'état courant\n",
    "    # la méthode retourne:\n",
    "    #    • l'état suivant\n",
    "    #    • la récompense immédiate\n",
    "    #    • un booléen qui indique si l'épisode est terminé\n",
    "    #    • le quatrième argument ne nous est pas utile (sert pour le debuggage dans certains cas)\n",
    "    #\n",
    "    nextState, reward, done, info, _ = env.step(np.random.randint(4))\n",
    "    print(\"etat numero:\",nextState)\n",
    "    #\n",
    "    # env.render donne une réprésentation de l'état.\n",
    "    #\n",
    "    nbIt+=1\n",
    "    rew = rew+[reward]\n",
    "print(\"Episode terminé après {} itérations\".format(nbIt))\n",
    "print(\"Récompenses obtenues:\",rew)\n",
    "env.close()"
   ]
  },
  {
   "cell_type": "code",
   "execution_count": 18,
   "metadata": {},
   "outputs": [
    {
     "name": "stderr",
     "output_type": "stream",
     "text": [
      "100%|███████████████████████████████████████████████████████████████████████████| 35000/35000 [01:56<00:00, 300.67it/s]"
     ]
    },
    {
     "name": "stdout",
     "output_type": "stream",
     "text": [
      "8x8 Qtable (SARSA):\n",
      "\n",
      " [[4.21915777e-01 4.24613414e-01 4.24739496e-01 4.28271847e-01]\n",
      " [4.24861004e-01 4.25160288e-01 4.26780245e-01 4.31470423e-01]\n",
      " [4.27742436e-01 4.27862324e-01 4.30116089e-01 4.37944497e-01]\n",
      " [4.31070180e-01 4.37899507e-01 4.33976875e-01 4.45297262e-01]\n",
      " [4.45071941e-01 4.54980365e-01 4.55209271e-01 4.58534978e-01]\n",
      " [4.64845900e-01 4.70442959e-01 4.78899006e-01 4.74710322e-01]\n",
      " [4.89233029e-01 4.91194507e-01 4.99052463e-01 4.94395242e-01]\n",
      " [5.04779840e-01 5.04731280e-01 5.08767394e-01 5.04865358e-01]\n",
      " [4.02200374e-01 3.86488876e-01 4.00775109e-01 4.19735723e-01]\n",
      " [3.94105562e-01 3.95856267e-01 3.89628398e-01 4.19972090e-01]\n",
      " [3.83730009e-01 3.71861104e-01 3.75894396e-01 4.17182263e-01]\n",
      " [2.80560785e-01 2.95235365e-01 2.75973495e-01 4.30073341e-01]\n",
      " [4.02843233e-01 3.78168831e-01 4.05264480e-01 4.43354362e-01]\n",
      " [4.37541069e-01 4.41560324e-01 4.51911030e-01 4.65334527e-01]\n",
      " [4.75818369e-01 4.82663717e-01 4.91909480e-01 4.87098203e-01]\n",
      " [5.04838310e-01 5.05962377e-01 5.10878966e-01 5.02073768e-01]\n",
      " [3.03925730e-01 2.52657776e-01 2.98700481e-01 3.71484123e-01]\n",
      " [2.98148329e-01 2.49984294e-01 2.86982366e-01 3.62992201e-01]\n",
      " [3.32995901e-01 1.43480764e-01 1.66063704e-01 1.99694459e-01]\n",
      " [0.00000000e+00 0.00000000e+00 0.00000000e+00 0.00000000e+00]\n",
      " [2.20035101e-01 1.82077548e-01 3.44604810e-01 2.23910653e-01]\n",
      " [2.23750973e-01 2.42577955e-01 3.28921410e-01 4.27393628e-01]\n",
      " [4.46825435e-01 4.54300250e-01 4.83616750e-01 4.68647710e-01]\n",
      " [5.02546684e-01 4.99056178e-01 5.16668148e-01 4.98217133e-01]\n",
      " [1.25677594e-01 1.28324083e-01 2.32552397e-01 1.82022540e-01]\n",
      " [1.57261554e-01 1.17727436e-01 1.44066437e-01 2.56689965e-01]\n",
      " [1.37781462e-01 9.35468539e-02 1.05968403e-01 2.13675175e-01]\n",
      " [2.78544469e-02 1.11065323e-01 3.34827054e-02 6.43768633e-02]\n",
      " [1.74236404e-01 6.30146482e-02 1.24173214e-01 1.36427308e-01]\n",
      " [0.00000000e+00 0.00000000e+00 0.00000000e+00 0.00000000e+00]\n",
      " [2.76044526e-01 2.87982809e-01 4.50715695e-01 3.66681047e-01]\n",
      " [4.98043898e-01 5.05308524e-01 5.27553918e-01 4.85070727e-01]\n",
      " [8.77132177e-02 4.49167325e-02 5.50258600e-02 1.65385040e-01]\n",
      " [2.89007779e-02 2.17661046e-02 3.43709038e-02 1.51430758e-01]\n",
      " [8.99144917e-02 7.48946406e-03 5.83907906e-03 2.71684540e-02]\n",
      " [0.00000000e+00 0.00000000e+00 0.00000000e+00 0.00000000e+00]\n",
      " [7.00526901e-02 7.22088697e-02 1.46939882e-01 1.14716814e-01]\n",
      " [7.55663855e-02 2.01484626e-01 1.38714037e-01 1.36005533e-01]\n",
      " [2.06586500e-01 2.46901991e-01 2.89691929e-01 4.03164165e-01]\n",
      " [4.88697702e-01 5.02279759e-01 5.48294250e-01 4.80748600e-01]\n",
      " [3.05011047e-02 2.84481989e-04 1.65239472e-03 4.04218798e-03]\n",
      " [0.00000000e+00 0.00000000e+00 0.00000000e+00 0.00000000e+00]\n",
      " [0.00000000e+00 0.00000000e+00 0.00000000e+00 0.00000000e+00]\n",
      " [1.32605333e-04 1.19572054e-02 2.56004321e-02 4.91802137e-03]\n",
      " [4.31895092e-02 2.82415595e-02 5.79310928e-02 9.18147573e-02]\n",
      " [1.05821426e-01 4.71009442e-02 7.58226932e-02 6.96530959e-02]\n",
      " [0.00000000e+00 0.00000000e+00 0.00000000e+00 0.00000000e+00]\n",
      " [4.25232270e-01 4.31513581e-01 6.01458566e-01 4.06983870e-01]\n",
      " [9.48002308e-05 3.62222264e-05 4.06302881e-03 4.27464032e-04]\n",
      " [0.00000000e+00 0.00000000e+00 0.00000000e+00 0.00000000e+00]\n",
      " [0.00000000e+00 1.14846334e-08 2.61698733e-04 2.72514256e-09]\n",
      " [8.24049488e-04 4.66552164e-07 1.13883765e-03 3.70840633e-03]\n",
      " [0.00000000e+00 0.00000000e+00 0.00000000e+00 0.00000000e+00]\n",
      " [6.03304942e-02 3.33554849e-02 8.77620215e-02 1.61988806e-02]\n",
      " [0.00000000e+00 0.00000000e+00 0.00000000e+00 0.00000000e+00]\n",
      " [5.55834472e-01 5.91251268e-01 7.31638582e-01 4.30965264e-01]\n",
      " [3.08452518e-04 2.77468923e-07 7.55525320e-05 3.65707405e-06]\n",
      " [0.00000000e+00 0.00000000e+00 0.00000000e+00 3.71718309e-08]\n",
      " [5.70701515e-14 1.29453975e-08 0.00000000e+00 5.62747036e-07]\n",
      " [0.00000000e+00 0.00000000e+00 0.00000000e+00 0.00000000e+00]\n",
      " [4.14028314e-03 6.18057423e-02 1.76528249e-02 1.13090846e-02]\n",
      " [4.14381705e-02 1.67052548e-01 8.82312124e-02 6.78161540e-02]\n",
      " [4.71955438e-02 1.10318247e-01 4.68382067e-01 1.05526358e-01]\n",
      " [0.00000000e+00 0.00000000e+00 0.00000000e+00 0.00000000e+00]]\n"
     ]
    },
    {
     "name": "stderr",
     "output_type": "stream",
     "text": [
      "\n"
     ]
    }
   ],
   "source": [
    "q, episodes_rewards, episodes_lengths = SARSA(0.2, 0.02, 1, n_episodes)\n",
    "print(\"8x8 Qtable (SARSA):\\n\\n\",q)"
   ]
  },
  {
   "cell_type": "code",
   "execution_count": 19,
   "metadata": {},
   "outputs": [
    {
     "name": "stdout",
     "output_type": "stream",
     "text": [
      "               8x8 SARSA:\n"
     ]
    },
    {
     "data": {
      "image/png": "[encoded data removed]",
      "text/plain": [
       "<Figure size 432x288 with 2 Axes>"
      ]
     },
     "metadata": {
      "needs_background": "light"
     },
     "output_type": "display_data"
    }
   ],
   "source": [
    "print(\"               8x8 SARSA:\")\n",
    "plotQ(q,8)"
   ]
  },
  {
   "cell_type": "code",
   "execution_count": 20,
   "metadata": {},
   "outputs": [
    {
     "name": "stderr",
     "output_type": "stream",
     "text": [
      "100%|███████████████████████████████████████████████████████████████████████████| 35000/35000 [01:00<00:00, 582.80it/s]\n"
     ]
    },
    {
     "name": "stdout",
     "output_type": "stream",
     "text": [
      "8x8 SARSA Policy evaluation over 35000 episodes: 0.9944285714285714\n"
     ]
    },
    {
     "data": {
      "image/png": "[encoded data removed]",
      "text/plain": [
       "<Figure size 432x288 with 1 Axes>"
      ]
     },
     "metadata": {
      "needs_background": "light"
     },
     "output_type": "display_data"
    }
   ],
   "source": [
    "res = runningAvg(episodes_lengths, 1500)\n",
    "plt.plot(res)\n",
    "print(\"8x8 SARSA Policy evaluation over\",n_episodes,\"episodes:\", test(q,n_episodes))"
   ]
  },
  {
   "cell_type": "code",
   "execution_count": 21,
   "metadata": {},
   "outputs": [
    {
     "name": "stderr",
     "output_type": "stream",
     "text": [
      "100%|███████████████████████████████████████████████████████████████████████████| 35000/35000 [02:55<00:00, 199.76it/s]"
     ]
    },
    {
     "name": "stdout",
     "output_type": "stream",
     "text": [
      "8x8 Qtable (Q_Learning):\n",
      "\n",
      " [[9.99999839e-01 9.99999853e-01 9.99999841e-01 9.99999842e-01]\n",
      " [9.99999843e-01 9.99999856e-01 9.99999844e-01 9.99999839e-01]\n",
      " [9.99999839e-01 9.99999859e-01 9.99999845e-01 9.99999846e-01]\n",
      " [9.99999838e-01 9.99999866e-01 9.99999847e-01 9.99999848e-01]\n",
      " [9.99999861e-01 9.99999862e-01 9.99999877e-01 9.99999864e-01]\n",
      " [9.99999866e-01 9.99999882e-01 9.99999873e-01 9.99999872e-01]\n",
      " [9.99999875e-01 9.99999892e-01 9.99999880e-01 9.99999875e-01]\n",
      " [9.99999899e-01 9.99999889e-01 9.99999891e-01 9.99999885e-01]\n",
      " [9.94766154e-01 9.93991012e-01 9.93830061e-01 9.99999853e-01]\n",
      " [9.86825368e-01 9.89630399e-01 9.87979983e-01 9.99999855e-01]\n",
      " [9.62723254e-01 9.63118147e-01 9.71275568e-01 9.99999860e-01]\n",
      " [6.45502379e-01 6.98534545e-01 6.93226614e-01 9.99999865e-01]\n",
      " [9.45215903e-01 9.59729272e-01 9.51179342e-01 9.99999874e-01]\n",
      " [9.81269950e-01 9.78931472e-01 9.76369247e-01 9.99999881e-01]\n",
      " [9.94766465e-01 9.93953177e-01 9.93599509e-01 9.99999894e-01]\n",
      " [9.99999892e-01 9.99999899e-01 9.99999907e-01 9.99999890e-01]\n",
      " [9.75737717e-01 9.55811312e-01 9.68768206e-01 9.81108551e-01]\n",
      " [9.48078580e-01 9.24032150e-01 9.25169629e-01 9.59379006e-01]\n",
      " [8.98549229e-01 5.65195189e-01 5.92936372e-01 7.23503644e-01]\n",
      " [0.00000000e+00 0.00000000e+00 0.00000000e+00 0.00000000e+00]\n",
      " [4.87825292e-01 5.40716480e-01 8.43746647e-01 6.79891220e-01]\n",
      " [6.37602991e-01 5.73481288e-01 6.59424859e-01 9.34014966e-01]\n",
      " [9.60814715e-01 9.59162441e-01 9.78014875e-01 9.81512912e-01]\n",
      " [9.94622696e-01 9.94345788e-01 9.99999919e-01 9.92643957e-01]\n",
      " [8.64266144e-01 8.34788840e-01 8.41258050e-01 9.30657621e-01]\n",
      " [8.33948955e-01 7.40594094e-01 7.08336349e-01 8.93989327e-01]\n",
      " [7.12249923e-01 5.84388912e-01 5.78623391e-01 7.16367825e-01]\n",
      " [2.36010319e-01 4.63101073e-01 1.75341684e-01 4.05314522e-01]\n",
      " [6.13112713e-01 2.29630302e-01 3.89240674e-01 4.32246751e-01]\n",
      " [0.00000000e+00 0.00000000e+00 0.00000000e+00 0.00000000e+00]\n",
      " [5.39233067e-01 6.29263649e-01 9.38362390e-01 6.60371652e-01]\n",
      " [9.77428720e-01 9.79765865e-01 9.99999930e-01 9.75344903e-01]\n",
      " [3.53843698e-01 2.78239894e-01 3.53911105e-01 7.13411841e-01]\n",
      " [5.42111603e-01 2.71761922e-01 3.37718535e-01 4.88107817e-01]\n",
      " [4.53503066e-01 9.23458031e-02 2.30953572e-01 3.43864831e-01]\n",
      " [0.00000000e+00 0.00000000e+00 0.00000000e+00 0.00000000e+00]\n",
      " [1.93556987e-01 1.77905922e-01 4.51596289e-01 2.65235605e-01]\n",
      " [1.47370877e-01 6.02772241e-01 3.67448076e-01 3.64302692e-01]\n",
      " [4.56491374e-01 4.52370731e-01 6.39633788e-01 8.63577501e-01]\n",
      " [9.46954949e-01 9.43769537e-01 9.99999944e-01 9.46778645e-01]\n",
      " [1.66356607e-02 6.60885392e-03 1.73986799e-01 2.42749463e-02]\n",
      " [0.00000000e+00 0.00000000e+00 0.00000000e+00 0.00000000e+00]\n",
      " [0.00000000e+00 0.00000000e+00 0.00000000e+00 0.00000000e+00]\n",
      " [9.59512955e-04 2.69060689e-02 4.86717868e-02 9.00216126e-03]\n",
      " [1.15329665e-01 4.14435259e-02 2.70004836e-01 1.60279194e-01]\n",
      " [3.33039535e-01 3.72926468e-02 1.50419235e-01 1.05641089e-01]\n",
      " [0.00000000e+00 0.00000000e+00 0.00000000e+00 0.00000000e+00]\n",
      " [6.37423252e-01 6.40387248e-01 9.99999961e-01 7.27866994e-01]\n",
      " [1.16861343e-05 2.95884162e-04 4.88967268e-03 2.18344626e-02]\n",
      " [0.00000000e+00 0.00000000e+00 0.00000000e+00 0.00000000e+00]\n",
      " [0.00000000e+00 1.06546767e-03 2.20163428e-04 0.00000000e+00]\n",
      " [6.79533100e-04 3.09136553e-06 2.22608241e-03 9.90854705e-03]\n",
      " [0.00000000e+00 0.00000000e+00 0.00000000e+00 0.00000000e+00]\n",
      " [1.97113755e-02 9.43897239e-04 1.90680074e-02 7.49059842e-02]\n",
      " [0.00000000e+00 0.00000000e+00 0.00000000e+00 0.00000000e+00]\n",
      " [6.96340113e-01 6.93548117e-01 9.99999981e-01 5.81675815e-01]\n",
      " [0.00000000e+00 3.07388879e-17 2.26235702e-07 5.62198274e-06]\n",
      " [4.61172733e-07 0.00000000e+00 0.00000000e+00 0.00000000e+00]\n",
      " [0.00000000e+00 2.29720145e-07 0.00000000e+00 1.12635533e-05]\n",
      " [0.00000000e+00 0.00000000e+00 0.00000000e+00 0.00000000e+00]\n",
      " [0.00000000e+00 0.00000000e+00 0.00000000e+00 2.55856965e-05]\n",
      " [8.66581443e-05 1.73134381e-03 1.76692223e-02 5.64512829e-04]\n",
      " [0.00000000e+00 0.00000000e+00 0.00000000e+00 8.36404628e-02]\n",
      " [0.00000000e+00 0.00000000e+00 0.00000000e+00 0.00000000e+00]]\n"
     ]
    },
    {
     "name": "stderr",
     "output_type": "stream",
     "text": [
      "\n"
     ]
    }
   ],
   "source": [
    "q, count, episodes_lengths = Qlearning(0.2, 0.02, 1, n_episodes)\n",
    "print(\"8x8 Qtable (Q_Learning):\\n\\n\",q)"
   ]
  },
  {
   "cell_type": "code",
   "execution_count": 22,
   "metadata": {},
   "outputs": [
    {
     "name": "stdout",
     "output_type": "stream",
     "text": [
      "            8x8 Q_Learning:\n"
     ]
    },
    {
     "data": {
      "image/png": "[encoded data removed]",
      "text/plain": [
       "<Figure size 432x288 with 2 Axes>"
      ]
     },
     "metadata": {
      "needs_background": "light"
     },
     "output_type": "display_data"
    }
   ],
   "source": [
    "print(\"            8x8 Q_Learning:\")\n",
    "plotQ(q,8)"
   ]
  },
  {
   "cell_type": "code",
   "execution_count": 23,
   "metadata": {
    "scrolled": true
   },
   "outputs": [
    {
     "name": "stderr",
     "output_type": "stream",
     "text": [
      "100%|███████████████████████████████████████████████████████████████████████████| 35000/35000 [01:30<00:00, 386.48it/s]"
     ]
    },
    {
     "name": "stdout",
     "output_type": "stream",
     "text": [
      "8x8 Q_Learning Policy evaluation over 35000 episodes: 1.0\n"
     ]
    },
    {
     "name": "stderr",
     "output_type": "stream",
     "text": [
      "\n"
     ]
    },
    {
     "data": {
      "image/png": "[encoded data removed]",
      "text/plain": [
       "<Figure size 432x288 with 1 Axes>"
      ]
     },
     "metadata": {
      "needs_background": "light"
     },
     "output_type": "display_data"
    }
   ],
   "source": [
    "res = runningAvg(episodes_lengths, 1500)\n",
    "plt.plot(res)\n",
    "print(\"8x8 Q_Learning Policy evaluation over\",n_episodes,\"episodes:\", test(q,n_episodes))"
   ]
  },
  {
   "cell_type": "code",
   "execution_count": 24,
   "metadata": {},
   "outputs": [
    {
     "name": "stderr",
     "output_type": "stream",
     "text": [
      "100%|███████████████████████████████████████████████████████████████████████████| 35000/35000 [05:42<00:00, 102.26it/s]"
     ]
    },
    {
     "name": "stdout",
     "output_type": "stream",
     "text": [
      "8x8 Qtable (Monte Carlo On_Policy):\n",
      "\n",
      " defaultdict(<function onPolicyMC.<locals>.<lambda> at 0x000001AEE28AAAF0>, {(0, 0): 0.15097312326227988, (0, 1): 0.13329414358145344, (0, 2): 0.15345654878265505, (0, 3): 0.16516174001203943, (1, 0): 0.15404266189807128, (1, 1): 0.13393734308481606, (1, 2): 0.16293385723641127, (1, 3): 0.1652656518775762, (2, 0): 0.1625779625779626, (2, 1): 0.1629196791126077, (2, 2): 0.16617229816868712, (2, 3): 0.16447952639368524, (3, 0): 0.15767330365442003, (3, 1): 0.16943049369847438, (3, 2): 0.17816869643662608, (3, 3): 0.22592330104732655, (4, 0): 0.1714190428547607, (4, 1): 0.22604899345137036, (4, 2): 0.22402064273985456, (4, 3): 0.23405346861996237, (5, 0): 0.2342559910830392, (5, 1): 0.2651707317073171, (5, 2): 0.26960533059969244, (5, 3): 0.2547359935509875, (6, 0): 0.2717948717948718, (6, 1): 0.290239505536956, (6, 2): 0.2753483901970207, (6, 3): 0.277348616994767, (7, 0): 0.30192435301924353, (7, 1): 0.28176100628930817, (7, 2): 0.2972972972972973, (7, 3): 0.29073756432247, (8, 0): 0.08955916473317865, (8, 1): 0.12807075008188668, (8, 2): 0.11285097192224622, (8, 3): 0.15971132726702228, (9, 0): 0.1531659002476123, (9, 1): 0.12039170506912443, (9, 2): 0.09254542367125149, (9, 3): 0.17091640537182748, (10, 0): 0.1169467787114846, (10, 1): 0.13580069124423963, (10, 2): 0.1331302557061953, (10, 3): 0.2083628632175762, (11, 0): 0.10725335166723961, (11, 1): 0.10867329448063079, (11, 2): 0.1261786387793588, (11, 3): 0.17642506094965366, (12, 0): 0.16885504201680673, (12, 1): 0.1585923217550274, (12, 2): 0.19994603345925527, (12, 3): 0.21232745398773006, (13, 0): 0.22448507289979172, (13, 1): 0.23795318953648462, (13, 2): 0.2371932845458459, (13, 3): 0.25495874542374736, (14, 0): 0.280468212072527, (14, 1): 0.28250175685172174, (14, 2): 0.2796520263102058, (14, 3): 0.2888037567968364, (15, 0): 0.29774479017984584, (15, 1): 0.3214691151919866, (15, 2): 0.3071800810654314, (15, 3): 0.30089866749302757, (16, 0): 0.08173690932311622, (16, 1): 0.08237547892720307, (16, 2): 0.10881948536633275, (16, 3): 0.08214676889375684, (17, 0): 0.08183632734530938, (17, 1): 0.07492795389048991, (17, 2): 0.08610968733982573, (17, 3): 0.11630254524479054, (18, 0): 0.10698192228171553, (18, 1): 0.05576679340937896, (18, 2): 0.06153846153846154, (18, 3): 0.07806932296728215, (19, 0): 0, (19, 1): 0, (19, 2): 0, (19, 3): 0, (20, 0): 0.05693430656934306, (20, 1): 0.08365019011406843, (20, 2): 0.11971830985915492, (20, 3): 0.13242978445460482, (21, 0): 0.11854684512428298, (21, 1): 0.08709338929695698, (21, 2): 0.1828125, (21, 3): 0.22789395685822492, (22, 0): 0.25257249766136575, (22, 1): 0.296969696969697, (22, 2): 0.3144798167311794, (22, 3): 0.2597894736842105, (23, 0): 0.3199004975124378, (23, 1): 0.3533945211238002, (23, 2): 0.33395373570858816, (23, 3): 0.3154008438818565, (24, 0): 0.06785411365564037, (24, 1): 0.0657672849915683, (24, 2): 0.039020929407591345, (24, 3): 0.11105244632171771, (25, 0): 0.09502202055251568, (25, 1): 0.02812100553898594, (25, 2): 0.07096247960848287, (25, 3): 0.07191780821917808, (26, 0): 0.06677018633540373, (26, 1): 0.045454545454545456, (26, 2): 0.05945121951219512, (26, 3): 0.07679493586540063, (27, 0): 0.016227180527383367, (27, 1): 0.04048582995951417, (27, 2): 0.02158273381294964, (27, 3): 0.05204582651391162, (28, 0): 0.0981564524165421, (28, 1): 0.068, (28, 2): 0.042801556420233464, (28, 3): 0.047619047619047616, (29, 0): 0, (29, 1): 0, (29, 2): 0, (29, 3): 0, (30, 0): 0.20126926563916592, (30, 1): 0.16812964213369344, (30, 2): 0.32945692672462457, (30, 3): 0.21399839098954143, (31, 0): 0.34223990903922685, (31, 1): 0.342, (31, 2): 0.40395411276543813, (31, 3): 0.31401254855094113, (32, 0): 0.021238938053097345, (32, 1): 0.014514896867838044, (32, 2): 0.059424678274034824, (32, 3): 0.02735042735042735, (33, 0): 0.02074074074074074, (33, 1): 0.01859229747675963, (33, 2): 0.03439153439153439, (33, 3): 0.058628547752227055, (34, 0): 0.048664471276985, (34, 1): 0.012738853503184714, (34, 2): 0.015717092337917484, (34, 3): 0.028282828282828285, (35, 0): 0, (35, 1): 0, (35, 2): 0, (35, 3): 0, (36, 0): 0.025974025974025976, (36, 1): 0.0375, (36, 2): 0.10918774966711052, (36, 3): 0.08875739644970414, (37, 0): 0.07083333333333333, (37, 1): 0.16602687140115163, (37, 2): 0.11042944785276074, (37, 3): 0.1282051282051282, (38, 0): 0.1404399323181049, (38, 1): 0.1706924315619968, (38, 2): 0.2139344262295082, (38, 3): 0.309634089856415, (39, 0): 0.3362628964463126, (39, 1): 0.3600147547030616, (39, 2): 0.46542818305391936, (39, 3): 0.33980582524271846, (40, 0): 0.0, (40, 1): 0.0026666666666666666, (40, 2): 0.016574585635359115, (40, 3): 0.002577319587628866, (41, 0): 0, (41, 1): 0, (41, 2): 0, (41, 3): 0, (42, 0): 0, (42, 1): 0, (42, 2): 0, (42, 3): 0, (43, 0): 0.0, (43, 1): 0.01652892561983471, (43, 2): 0.0, (43, 3): 0.0, (44, 0): 0.02577319587628866, (44, 1): 0.04, (44, 2): 0.015873015873015872, (44, 3): 0.07207207207207207, (45, 0): 0.09619686800894854, (45, 1): 0.04487179487179487, (45, 2): 0.1111111111111111, (45, 3): 0.051470588235294115, (46, 0): 0, (46, 1): 0, (46, 2): 0, (46, 3): 0, (47, 0): 0.30460801915020946, (47, 1): 0.30442692540933897, (47, 2): 0.5629934393417102, (47, 3): 0.24195544554455445, (48, 0): 0.004201680672268907, (48, 1): 0.004524886877828055, (48, 2): 0.0, (48, 3): 0.009216589861751152, (49, 0): 0, (49, 1): 0, (49, 2): 0, (49, 3): 0, (50, 0): 0.0, (50, 1): 0.0, (50, 2): 0.0, (50, 3): 0.0, (51, 0): 0.0, (51, 1): 0.0, (51, 2): 0.0, (51, 3): 0.0, (52, 0): 0, (52, 1): 0, (52, 2): 0, (52, 3): 0, (53, 0): 0.1510791366906475, (53, 1): 0.0975609756097561, (53, 2): 0.034482758620689655, (53, 3): 0.0, (54, 0): 0, (54, 1): 0, (54, 2): 0, (54, 3): 0, (55, 0): 0.39976958525345624, (55, 1): 0.4399551066217733, (55, 2): 0.7551666918087193, (55, 3): 0.2496551724137931, (56, 0): 0.0, (56, 1): 0.0072992700729927005, (56, 2): 0.0, (56, 3): 0.013986013986013986, (57, 0): 0.01020408163265306, (57, 1): 0.0, (57, 2): 0.0, (57, 3): 0.0, (58, 0): 0.0, (58, 1): 0.0, (58, 2): 0.0, (58, 3): 0.0, (59, 0): 0, (59, 1): 0, (59, 2): 0, (59, 3): 0, (60, 0): 0.0, (60, 1): 0.0, (60, 2): 0.0, (60, 3): 0.0, (61, 0): 0.0, (61, 1): 0.17391304347826086, (61, 2): 0.3900709219858156, (61, 3): 0.043478260869565216, (62, 0): 0.09090909090909091, (62, 1): 0.6285714285714286, (62, 2): 0.5217391304347826, (62, 3): 0.4444444444444444, (63, 0): 0, (63, 1): 0, (63, 2): 0, (63, 3): 0})\n"
     ]
    },
    {
     "name": "stderr",
     "output_type": "stream",
     "text": [
      "\n"
     ]
    }
   ],
   "source": [
    "q, pi, episodes_lengths = onPolicyMC(n_episodes, 1, 0.2)\n",
    "print(\"8x8 Qtable (Monte Carlo On_Policy):\\n\\n\",q)"
   ]
  },
  {
   "cell_type": "code",
   "execution_count": 25,
   "metadata": {},
   "outputs": [
    {
     "name": "stderr",
     "output_type": "stream",
     "text": [
      "100%|████████████████████████████████████████████████████████████████████████████| 35000/35000 [06:37<00:00, 87.95it/s]\n"
     ]
    },
    {
     "name": "stdout",
     "output_type": "stream",
     "text": [
      "8x8 Monte Carlo On_Policy Policy evaluation over 35000 episodes: 0.9095142857142857\n"
     ]
    },
    {
     "data": {
      "image/png": "[encoded data removed]",
      "text/plain": [
       "<Figure size 432x288 with 1 Axes>"
      ]
     },
     "metadata": {
      "needs_background": "light"
     },
     "output_type": "display_data"
    }
   ],
   "source": [
    "res = runningAvg(episodes_lengths, 1500)\n",
    "plt.plot(res)\n",
    "print(\"8x8 Monte Carlo On_Policy Policy evaluation over\",n_episodes,\"episodes:\", test_MC(q,n_episodes))"
   ]
  },
  {
   "cell_type": "markdown",
   "metadata": {},
   "source": [
    "### SARSA vs. Q_learning vs. Monte Carlo on_policy pour 8x8:"
   ]
  },
  {
   "cell_type": "markdown",
   "metadata": {},
   "source": [
    "Sur 35000 épisodes, et en utilisant la grille 8x8, on remarque que l'algorithme Q_Learning a obtenu la plus grande valeur moyenne de la somme des récompenses sur l'épisode (1), suivi de l'algorithme SARSA (0.99), qui est presque le même résultat que celui de Q_learning), alors que Monte Carlo on_policy a obtenu 0.91 seulement."
   ]
  },
  {
   "cell_type": "markdown",
   "metadata": {
    "id": "vMtevQsXpGUX"
   },
   "source": [
    "## Cart-pole en tabulaire\n",
    "\n",
    "On vous propose pour finir d'utiliser votre code et de tester l'apprentissage sur le problème du cart-pole. A priori, c'est un problème où les états sont des variables continues. On vous propose ici de discrétiser les variables et d'essayer d'utiliser une des méthodes pour voir vos résultats. \n",
    "\n",
    "La récompense que vous obtenez est le nombre de pas de temps où le baton est resté en équilibre. Si vous utilisez colab pour coder, vous ne pourrez malheureusement pas visualiser un épisode avec la méthode render :-(\n",
    "\n",
    "Cet environnement Cart-Pole consiste à déplacer un chariot pour faire tenir en équilibre une poutre. Plus précisément:\n",
    "* Il y a deux actions : gauche et droite (représentées par 0 et 1).\n",
    "* L'observation reçue (c'est à dire l'état) est un tableau numpy comprenant 4 variables: la position du chariot, la vélocité, l'angle à la verticale et la position du haut de la poutre.\n",
    "* L'épisode se termine lorsque l'angle de la poutre à la verticale dépasse 12 degrés.\n",
    "* Les récompenses reçues sont égales à 1 sauf si l'angle dépasse 12 degrés.\n",
    "\n",
    "On vous donne ci-dessous les fonctions pour réaliser la discrétisation et pour encoder l'état en un entier.\n"
   ]
  },
  {
   "cell_type": "code",
   "execution_count": 26,
   "metadata": {},
   "outputs": [
    {
     "name": "stdout",
     "output_type": "stream",
     "text": [
      "environnement avec  2  actions\n",
      "l'espace des états est lui codé avec une class Box([-4.8000002e+00 -3.4028235e+38 -4.1887903e-01 -3.4028235e+38], [4.8000002e+00 3.4028235e+38 4.1887903e-01 3.4028235e+38], (4,), float32)  qui représente un espace continu\n",
      "les bornes inférieures des intervalles sont:  [-4.8000002e+00 -3.4028235e+38 -4.1887903e-01 -3.4028235e+38]\n",
      "les bornes supérieures des intervalles sont:  [4.8000002e+00 3.4028235e+38 4.1887903e-01 3.4028235e+38]\n",
      "Episode terminé après 29 itérations\n"
     ]
    }
   ],
   "source": [
    "env = gym.make(\"CartPole-v1\")\n",
    "print(\"environnement avec \", env.action_space.n, \" actions\")\n",
    "print(\"l'espace des états est lui codé avec une class\", env.observation_space,\n",
    "      \" qui représente un espace continu\")\n",
    "print(\"les bornes inférieures des intervalles sont: \", env.observation_space.low)\n",
    "print(\"les bornes supérieures des intervalles sont: \",env.observation_space.high)\n",
    "env.reset()\n",
    "nbIt=0\n",
    "done=False\n",
    "while not done:\n",
    "    observation, reward, done, info,_ = env.step(np.random.randint(2))\n",
    "    nbIt+=1\n",
    "print(\"Episode terminé après {} itérations\".format(nbIt))\n",
    "env.close()"
   ]
  },
  {
   "cell_type": "code",
   "execution_count": 27,
   "metadata": {
    "id": "mDMbbzDrqCrV"
   },
   "outputs": [],
   "source": [
    "def discretise(x,mini,maxi): \n",
    "  # discretise x\n",
    "  # renvoie un entier entre 0 et nval-1\n",
    "    if x<mini: x=mini\n",
    "    if x>maxi: x=maxi\n",
    "    return int(np.floor((x-mini)*nval/(maxi-mini+0.0001)))\n",
    "\n",
    "def encode(observation):\n",
    "    pos = discretise(observation[0],mini=-1,maxi=1)\n",
    "    vel = discretise(observation[1],mini=-1,maxi=1)\n",
    "    angle = discretise(observation[2],mini=-1,maxi=1)\n",
    "    pos2 = discretise(observation[3],mini=-1,maxi=1)\n",
    "    return pos + vel*nval + angle*nval*nval + pos2*nval*nval*nval"
   ]
  },
  {
   "cell_type": "code",
   "execution_count": 28,
   "metadata": {
    "colab": {
     "base_uri": "https://localhost:8080/",
     "height": 34
    },
    "id": "h0z0VtgYq-fv",
    "outputId": "ca11696a-3569-4f08-cac8-25d59210e8c6"
   },
   "outputs": [
    {
     "name": "stdout",
     "output_type": "stream",
     "text": [
      "Le nombre d'états sera ici de  625\n"
     ]
    }
   ],
   "source": [
    "nval =5 # nombre de valeurs discrètes qu’une variable peut prendre\n",
    "numStates= nval ** 4 # Puisqu’il y a 4 variables, la taille de l’espace est nval^4\n",
    "numActions = env.action_space.n\n",
    "print(\"Le nombre d'états sera ici de \", numStates)"
   ]
  },
  {
   "cell_type": "markdown",
   "metadata": {
    "id": "1Sq12HjSrgNw"
   },
   "source": [
    "Modifiez votre implémentation de Q-learning et/ou de SARSA pour tester si vous pouvez apprendre à maintenier le baton en équilibre. Une modification sera d'utilisé les fonctions ci-dessus pour encoder/decoder un état. Une autre sera surement d'ajouter le nombre d'états en paramètre car ce nombre est maintenant indépendant de l'environnement! \n",
    "Avec comme paramètre $\\epsilon=0.1$, $\\alpha=0.2$ et $\\gamma=0.9$, j'arrive a atteindre un score autour de 90 pas de temps."
   ]
  },
  {
   "cell_type": "code",
   "execution_count": 29,
   "metadata": {},
   "outputs": [],
   "source": [
    "def test_2(Q,n):\n",
    "    cumulative_reward = 0\n",
    "    # run n episodes\n",
    "    for i in tqdm(range(n)):\n",
    "        old_state = encode(env.reset()[0])\n",
    "        finished = False\n",
    "        episode_reward = 0\n",
    "        # while the game is not finished\n",
    "        while not finished:\n",
    "            new_state, state_reward, finished, _, _ = env.step(np.argmax(Q[old_state,:]))\n",
    "            new_state = encode(new_state)\n",
    "            episode_reward += state_reward \n",
    "            old_state = new_state\n",
    "        # add the reward of last episode to the total cumulative reward\n",
    "        cumulative_reward += episode_reward\n",
    "    return cumulative_reward/n"
   ]
  },
  {
   "cell_type": "code",
   "execution_count": 30,
   "metadata": {
    "id": "ythSnUmaIEIs"
   },
   "outputs": [],
   "source": [
    "def SARSA_2(eps, alpha, gamma, n, nStates):\n",
    "    q = np.zeros((nStates, numActions))\n",
    "    episodes_rewards = []\n",
    "    episodes_lengths = []\n",
    "    # run n episodes\n",
    "    for i in tqdm(range(n)):\n",
    "        old_state = encode(env.reset()[0])\n",
    "        current_ep_length = 0 \n",
    "        finished = False\n",
    "        old_action = epsGreedy(eps,q,old_state)  \n",
    "        # while the game is not finished\n",
    "        while not finished:\n",
    "            new_state, reward, finished, _,_ = env.step(old_action)\n",
    "            new_state = encode(new_state)\n",
    "            new_action = epsGreedy(eps,q,new_state)\n",
    "            q[old_state, old_action] = q[old_state, old_action] + alpha*(reward + gamma*q[new_state,new_action] - q[old_state, old_action])\n",
    "            old_action = new_action\n",
    "            old_state = new_state\n",
    "            current_ep_length += 1\n",
    "        # add the reward of last episode to our list of episodes' rewards\n",
    "        episodes_rewards.append(np.max(q[0]))\n",
    "        episodes_lengths.append(current_ep_length + 1)    \n",
    "    return q, episodes_rewards, episodes_lengths"
   ]
  },
  {
   "cell_type": "code",
   "execution_count": 37,
   "metadata": {},
   "outputs": [
    {
     "name": "stderr",
     "output_type": "stream",
     "text": [
      "100%|███████████████████████████████████████████████████████████████████████████| 35000/35000 [01:55<00:00, 303.16it/s]"
     ]
    },
    {
     "name": "stdout",
     "output_type": "stream",
     "text": [
      "Qtable (SARSA):\n",
      "\n",
      " [[0. 0.]\n",
      " [0. 0.]\n",
      " [0. 0.]\n",
      " ...\n",
      " [0. 0.]\n",
      " [0. 0.]\n",
      " [0. 0.]]\n"
     ]
    },
    {
     "name": "stderr",
     "output_type": "stream",
     "text": [
      "\n"
     ]
    }
   ],
   "source": [
    "n_episodes = 35000\n",
    "q, episodes_rewards, episodes_lengths = SARSA_2(0.1, 0.1, 0.9, n_episodes, numStates)\n",
    "print(\"Qtable (SARSA):\\n\\n\",q)"
   ]
  },
  {
   "cell_type": "code",
   "execution_count": 38,
   "metadata": {},
   "outputs": [
    {
     "name": "stderr",
     "output_type": "stream",
     "text": [
      "100%|███████████████████████████████████████████████████████████████████████████| 35000/35000 [04:20<00:00, 134.35it/s]\n"
     ]
    }
   ],
   "source": [
    "res_SARSA = test_2(q,n_episodes)"
   ]
  },
  {
   "cell_type": "code",
   "execution_count": 33,
   "metadata": {},
   "outputs": [],
   "source": [
    "def Qlearning_2(eps, alpha, gamma, n, nStates):\n",
    "    q = np.zeros((nStates, numActions))\n",
    "    count = np.zeros((nStates, numActions))\n",
    "    episodes_lengths = []\n",
    "    # run n episodes\n",
    "    for i in tqdm(range(n)):\n",
    "        old_state = encode(env.reset()[0])\n",
    "        current_ep_length = 0 \n",
    "        finished = False \n",
    "        # while the game is not finished\n",
    "        while not finished:\n",
    "            old_action = epsGreedy(eps,q,old_state) \n",
    "            new_state, reward, finished, _,_ = env.step(old_action)\n",
    "            new_state = encode(new_state)\n",
    "            count[old_state,old_action] += 1 \n",
    "            q[old_state, old_action] = q[old_state, old_action] + alpha*(reward + gamma*np.max(q[new_state]) - q[old_state, old_action])\n",
    "            current_ep_length += 1\n",
    "            old_state = new_state\n",
    "        # get the list containing the length (number of visited states) of each episode\n",
    "        episodes_lengths.append(current_ep_length + 1)\n",
    "    return q, count, episodes_lengths"
   ]
  },
  {
   "cell_type": "code",
   "execution_count": 34,
   "metadata": {},
   "outputs": [
    {
     "name": "stderr",
     "output_type": "stream",
     "text": [
      "100%|███████████████████████████████████████████████████████████████████████████| 35000/35000 [04:51<00:00, 120.12it/s]"
     ]
    },
    {
     "name": "stdout",
     "output_type": "stream",
     "text": [
      "Qtable (Q_Learning):\n",
      "\n",
      " [[0. 0.]\n",
      " [0. 0.]\n",
      " [0. 0.]\n",
      " ...\n",
      " [0. 0.]\n",
      " [0. 0.]\n",
      " [0. 0.]]\n"
     ]
    },
    {
     "name": "stderr",
     "output_type": "stream",
     "text": [
      "\n"
     ]
    }
   ],
   "source": [
    "q, count, episodes_lengths = Qlearning_2(0.1, 0.1, 0.9, n_episodes, numStates)\n",
    "print(\"Qtable (Q_Learning):\\n\\n\",q)"
   ]
  },
  {
   "cell_type": "code",
   "execution_count": 35,
   "metadata": {},
   "outputs": [
    {
     "name": "stderr",
     "output_type": "stream",
     "text": [
      "100%|███████████████████████████████████████████████████████████████████████████| 35000/35000 [03:14<00:00, 179.68it/s]\n"
     ]
    }
   ],
   "source": [
    "res_QL = test_2(q,n_episodes)"
   ]
  },
  {
   "cell_type": "code",
   "execution_count": 39,
   "metadata": {},
   "outputs": [
    {
     "name": "stdout",
     "output_type": "stream",
     "text": [
      "J'ai réussi à obtenir 162.0904857142857 et 118.88785714285714 en utilisant respectivement SARSA et Q_learning\n"
     ]
    }
   ],
   "source": [
    "print(\"J'ai réussi à obtenir\",res_SARSA,\"et\",res_QL,\"en utilisant respectivement SARSA et Q_learning\")"
   ]
  }
 ],
 "metadata": {
  "colab": {
   "collapsed_sections": [],
   "provenance": []
  },
  "kernelspec": {
   "display_name": "Python 3 (ipykernel)",
   "language": "python",
   "name": "python3"
  },
  "language_info": {
   "codemirror_mode": {
    "name": "ipython",
    "version": 3
   },
   "file_extension": ".py",
   "mimetype": "text/x-python",
   "name": "python",
   "nbconvert_exporter": "python",
   "pygments_lexer": "ipython3",
   "version": "3.10.9"
  }
 },
 "nbformat": 4,
 "nbformat_minor": 1
}
